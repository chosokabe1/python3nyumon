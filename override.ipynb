{
 "cells": [
  {
   "cell_type": "code",
   "execution_count": 10,
   "metadata": {},
   "outputs": [],
   "source": [
    "class Greet():\n",
    "    def hello(self):\n",
    "        print(\"やあ\")\n",
    "    \n",
    "    def bye(self):\n",
    "        print(\"さよなら\")"
   ]
  },
  {
   "cell_type": "code",
   "execution_count": 11,
   "metadata": {},
   "outputs": [],
   "source": [
    "class Greet2(Greet):\n",
    "    def hello(self, name = None):\n",
    "        if name :\n",
    "            print(name + \"さん、こんにちは！\")\n",
    "        else :\n",
    "            super().hello()"
   ]
  },
  {
   "cell_type": "code",
   "execution_count": 12,
   "metadata": {},
   "outputs": [
    {
     "ename": "TypeError",
     "evalue": "hello() missing 1 required positional argument: 'self'",
     "output_type": "error",
     "traceback": [
      "\u001b[0;31m---------------------------------------------------------------------------\u001b[0m",
      "\u001b[0;31mTypeError\u001b[0m                                 Traceback (most recent call last)",
      "\u001b[1;32m/Users/choso/ex/override.ipynb Cell 3'\u001b[0m in \u001b[0;36m<cell line: 2>\u001b[0;34m()\u001b[0m\n\u001b[1;32m      <a href='vscode-notebook-cell:/Users/choso/ex/override.ipynb#ch0000002?line=0'>1</a>\u001b[0m a \u001b[39m=\u001b[39m Greet2\n\u001b[0;32m----> <a href='vscode-notebook-cell:/Users/choso/ex/override.ipynb#ch0000002?line=1'>2</a>\u001b[0m a\u001b[39m.\u001b[39;49mhello()\n",
      "\u001b[0;31mTypeError\u001b[0m: hello() missing 1 required positional argument: 'self'"
     ]
    }
   ],
   "source": [
    "a = Greet2\n",
    "a.hello()"
   ]
  }
 ],
 "metadata": {
  "kernelspec": {
   "display_name": "Python 3.8.5 ('nyumon')",
   "language": "python",
   "name": "python3"
  },
  "language_info": {
   "codemirror_mode": {
    "name": "ipython",
    "version": 3
   },
   "file_extension": ".py",
   "mimetype": "text/x-python",
   "name": "python",
   "nbconvert_exporter": "python",
   "pygments_lexer": "ipython3",
   "version": "3.8.13"
  },
  "orig_nbformat": 4,
  "vscode": {
   "interpreter": {
    "hash": "9e967378065edafb92749124c824a796e385b024a19e245e2548aff439aecb5a"
   }
  }
 },
 "nbformat": 4,
 "nbformat_minor": 2
}
