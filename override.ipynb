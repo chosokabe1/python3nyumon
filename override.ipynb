{
 "cells": [
  {
   "cell_type": "code",
   "execution_count": 10,
   "metadata": {},
   "outputs": [],
   "source": [
    "class Greet():\n",
    "    def hello(self):\n",
    "        print(\"やあ\")\n",
    "    \n",
    "    def bye(self):\n",
    "        print(\"さよなら\")"
   ]
  },
  {
   "cell_type": "code",
   "execution_count": 11,
   "metadata": {},
   "outputs": [],
   "source": [
    "class Greet2(Greet):\n",
    "    def hello(self, name = None):\n",
    "        if name :\n",
    "            print(name + \"さん、こんにちは！\")\n",
    "        else :\n",
    "            super().hello()"
   ]
  },
  {
   "cell_type": "code",
   "execution_count": 14,
   "metadata": {},
   "outputs": [
    {
     "name": "stdout",
     "output_type": "stream",
     "text": [
      "takashiさん、こんにちは！\n"
     ]
    }
   ],
   "source": [
    "a = Greet2()\n",
    "a.hello(\"takashi\")"
   ]
  }
 ],
 "metadata": {
  "kernelspec": {
   "display_name": "Python 3.8.5 ('nyumon')",
   "language": "python",
   "name": "python3"
  },
  "language_info": {
   "codemirror_mode": {
    "name": "ipython",
    "version": 3
   },
   "file_extension": ".py",
   "mimetype": "text/x-python",
   "name": "python",
   "nbconvert_exporter": "python",
   "pygments_lexer": "ipython3",
   "version": "3.8.13"
  },
  "orig_nbformat": 4,
  "vscode": {
   "interpreter": {
    "hash": "9e967378065edafb92749124c824a796e385b024a19e245e2548aff439aecb5a"
   }
  }
 },
 "nbformat": 4,
 "nbformat_minor": 2
}
