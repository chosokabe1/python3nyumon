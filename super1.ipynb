{
 "cells": [
  {
   "cell_type": "code",
   "execution_count": 5,
   "metadata": {},
   "outputs": [],
   "source": [
    "class Person():\n",
    "    def __init__(self, name, age):\n",
    "        self.name = name\n",
    "        self.age = age\n",
    "\n",
    "class Player(Person):\n",
    "    def __init__(self, number, position):\n",
    "        self.number = number\n",
    "        self.position = position"
   ]
  },
  {
   "cell_type": "code",
   "execution_count": 6,
   "metadata": {},
   "outputs": [
    {
     "ename": "AttributeError",
     "evalue": "'Player' object has no attribute 'name'",
     "output_type": "error",
     "traceback": [
      "\u001b[0;31m---------------------------------------------------------------------------\u001b[0m",
      "\u001b[0;31mAttributeError\u001b[0m                            Traceback (most recent call last)",
      "\u001b[1;32m/Users/choso/ex/python3nyumon/super1.ipynb Cell 2'\u001b[0m in \u001b[0;36m<cell line: 3>\u001b[0;34m()\u001b[0m\n\u001b[1;32m      <a href='vscode-notebook-cell:/Users/choso/ex/python3nyumon/super1.ipynb#ch0000001?line=0'>1</a>\u001b[0m a \u001b[39m=\u001b[39m Player(\u001b[39m6\u001b[39m, \u001b[39m\"\u001b[39m\u001b[39msuper\u001b[39m\u001b[39m\"\u001b[39m)\n\u001b[1;32m      <a href='vscode-notebook-cell:/Users/choso/ex/python3nyumon/super1.ipynb#ch0000001?line=1'>2</a>\u001b[0m a\u001b[39m.\u001b[39mnumber\n\u001b[0;32m----> <a href='vscode-notebook-cell:/Users/choso/ex/python3nyumon/super1.ipynb#ch0000001?line=2'>3</a>\u001b[0m a\u001b[39m.\u001b[39;49mname\n",
      "\u001b[0;31mAttributeError\u001b[0m: 'Player' object has no attribute 'name'"
     ]
    }
   ],
   "source": [
    "a = Player(6, \"super\")\n",
    "a.number\n",
    "a.name"
   ]
  }
 ],
 "metadata": {
  "kernelspec": {
   "display_name": "Python 3.8.5 ('nyumon')",
   "language": "python",
   "name": "python3"
  },
  "language_info": {
   "codemirror_mode": {
    "name": "ipython",
    "version": 3
   },
   "file_extension": ".py",
   "mimetype": "text/x-python",
   "name": "python",
   "nbconvert_exporter": "python",
   "pygments_lexer": "ipython3",
   "version": "3.8.13"
  },
  "orig_nbformat": 4,
  "vscode": {
   "interpreter": {
    "hash": "9e967378065edafb92749124c824a796e385b024a19e245e2548aff439aecb5a"
   }
  }
 },
 "nbformat": 4,
 "nbformat_minor": 2
}
